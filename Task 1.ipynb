{
 "cells": [
  {
   "cell_type": "markdown",
   "metadata": {},
   "source": [
    "# Task 1"
   ]
  },
  {
   "cell_type": "markdown",
   "metadata": {},
   "source": [
    "## Question 1\n",
    "\n",
    "This question is about setting up a working environment, as detailed in this unit: https://github.com/xvrdm/unit-test/blob/master/installing_r.md.\n",
    " \n",
    "\n",
    "#### Learner message:\n",
    "\n",
    "Hi,  \n",
    "\n",
    "I'm trying to install everything on a PC (which is made available from my employer and dedicated to the course).  Unfortunately, I'm having trouble already at the stage of installing the first packages.\n",
    "\n",
    "Here is what I get :\n",
    "\n",
    "\\> install.packages(\"cowsay\")<br>\n",
    "Warning in install.packages(\"cowsay\") :<br>\n",
    "  'lib = \"C:/Program Files/R/R-3.5.1/library\"' is not writable <br>\n",
    "Error in install.packages(\"cowsay\") : unable to install packages\n",
    "\n",
    "I suspect that this is because my company didn't give me all the rights on this PC (if a folder is not writable)? If so, I will ask our IT division for help.\n",
    "\n",
    "But I wanted to ask you first. I'm sorry that my computer knowledges are rather low and I'm unable to solve the problem by myself.\n",
    "\n",
    "Many thanks for your help in advance"
   ]
  },
  {
   "cell_type": "markdown",
   "metadata": {},
   "source": [
    "## Answer 1\n",
    "\n",
    "Indeed, it looks like you have an unfortunate admin rights limitation on your PC, which probably depends on your installed Windows version as well. There are several ways to work around this problem, but the main ones are described in detail in these links:\n",
    "\n",
    "https://cran.r-project.org/bin/windows/base/rw-FAQ.html#Does-R-run-under-Windows-Vista_003f <br>\n",
    "https://cran.r-project.org/bin/windows/base/rw-FAQ.html#I-don_0027t-have-permission-to-write-to-the-R_002d3_002e5_002e1_005clibrary-directory\n",
    "\n",
    "If I were you I would try the following as first options:\n",
    "- Run R or RStudio with Administrator privileges in sessions where you want to install packages --> right-click on the R or RStudio icon and select ’Run as Administrator’.\n",
    "- Transfer ownership of the R installation to the user which installed R --> find the top-level R folder, right-click on 'Properties', select the 'Security' tab, and give 'Full Control' to the user.\n",
    "\n",
    "If your problem is not solved this way, you can still install the packages into a different library tree or create and make use of a personal library (you can find how to do this in the provided links). These are a bit more trickier so if you get to this point and need further help let me know."
   ]
  },
  {
   "cell_type": "markdown",
   "metadata": {},
   "source": [
    "## Question 2\n",
    "Note: This question is about reshaping tables with packages {tidyr} and {dplyr} as detailed in this unit:  https://exts.epfl.ch/pdf/reshaping_tibble.pdf\n",
    " \n",
    "\n",
    "#### Learner message\n",
    "Hi,\n",
    "\n",
    " \n",
    "\n",
    "Despite the quizz and the explanation, I really don't understand the point of `gather()`? Can you please explain it to me in another way?\n"
   ]
  },
  {
   "cell_type": "markdown",
   "metadata": {},
   "source": [
    "## Answer 2\n",
    "\n",
    "To be honest I had the same feeling the first time I came across `gather()` back in the days... :-) But before we jump into the explanation, some reminders:\n",
    "- Real-life data comes in many shapes and flavours, so you might need to do some data cleaning and tidying before you can actually use it further (visualization, analysis, and so on). \n",
    "- Your data is considered 'tidy' when you have one observation per row and one feature per column. \n",
    "- {tidyr} and {dplyr} are the fundamental packages for data tidying in R, and `gather()` is part of {tidyr}.\n",
    "\n",
    "Imagine you work as an analyst for and ice-cream making company, and you are sent the following table with the actual tons of ice-cream consumption per city during the past five years:"
   ]
  },
  {
   "cell_type": "code",
   "execution_count": 2,
   "metadata": {},
   "outputs": [],
   "source": [
    "library(ggplot2)\n",
    "library(dplyr)\n",
    "library(tidyr)"
   ]
  },
  {
   "cell_type": "code",
   "execution_count": 4,
   "metadata": {},
   "outputs": [
    {
     "data": {
      "text/html": [
       "<table>\n",
       "<thead><tr><th scope=col>year</th><th scope=col>Lausanne.consumption</th><th scope=col>Geneva.consumption</th><th scope=col>Morges.consumption</th><th scope=col>Vevey.consumption</th></tr></thead>\n",
       "<tbody>\n",
       "\t<tr><td>2013</td><td>4   </td><td>2   </td><td>1   </td><td>2   </td></tr>\n",
       "\t<tr><td>2014</td><td>5   </td><td>2   </td><td>1   </td><td>3   </td></tr>\n",
       "\t<tr><td>2015</td><td>2   </td><td>1   </td><td>2   </td><td>1   </td></tr>\n",
       "\t<tr><td>2016</td><td>9   </td><td>5   </td><td>1   </td><td>2   </td></tr>\n",
       "\t<tr><td>2017</td><td>8   </td><td>4   </td><td>3   </td><td>4   </td></tr>\n",
       "</tbody>\n",
       "</table>\n"
      ],
      "text/latex": [
       "\\begin{tabular}{r|lllll}\n",
       " year & Lausanne.consumption & Geneva.consumption & Morges.consumption & Vevey.consumption\\\\\n",
       "\\hline\n",
       "\t 2013 & 4    & 2    & 1    & 2   \\\\\n",
       "\t 2014 & 5    & 2    & 1    & 3   \\\\\n",
       "\t 2015 & 2    & 1    & 2    & 1   \\\\\n",
       "\t 2016 & 9    & 5    & 1    & 2   \\\\\n",
       "\t 2017 & 8    & 4    & 3    & 4   \\\\\n",
       "\\end{tabular}\n"
      ],
      "text/markdown": [
       "\n",
       "year | Lausanne.consumption | Geneva.consumption | Morges.consumption | Vevey.consumption | \n",
       "|---|---|---|---|---|\n",
       "| 2013 | 4    | 2    | 1    | 2    | \n",
       "| 2014 | 5    | 2    | 1    | 3    | \n",
       "| 2015 | 2    | 1    | 2    | 1    | \n",
       "| 2016 | 9    | 5    | 1    | 2    | \n",
       "| 2017 | 8    | 4    | 3    | 4    | \n",
       "\n",
       "\n"
      ],
      "text/plain": [
       "  year Lausanne.consumption Geneva.consumption Morges.consumption\n",
       "1 2013 4                    2                  1                 \n",
       "2 2014 5                    2                  1                 \n",
       "3 2015 2                    1                  2                 \n",
       "4 2016 9                    5                  1                 \n",
       "5 2017 8                    4                  3                 \n",
       "  Vevey.consumption\n",
       "1 2                \n",
       "2 3                \n",
       "3 1                \n",
       "4 2                \n",
       "5 4                "
      ]
     },
     "metadata": {},
     "output_type": "display_data"
    }
   ],
   "source": [
    "ice_cream"
   ]
  },
  {
   "cell_type": "markdown",
   "metadata": {},
   "source": [
    "At a first glance, you may consider that your data layout is enough for what you want to accomplish (for example, plotting a simple bar chart or line trend). However, on a closer look, it is obvious that each row is not a single observation but rather a mishmash of observations for different cities, and therefore this dataset is far from being tidy. \n",
    "\n",
    "The first thing to do is to identify which are the unique features you would need to tidy this dataset: year, city, and consumption. The year is already 'clean', but the other two are mixed together into 4 different columns. This is when you can use `gather()` to tidy your dataset:"
   ]
  },
  {
   "cell_type": "code",
   "execution_count": 16,
   "metadata": {},
   "outputs": [
    {
     "data": {
      "text/html": [
       "<table>\n",
       "<thead><tr><th scope=col>year</th><th scope=col>city</th><th scope=col>consumption</th></tr></thead>\n",
       "<tbody>\n",
       "\t<tr><td>2013                </td><td>Lausanne.consumption</td><td>4                   </td></tr>\n",
       "\t<tr><td>2014                </td><td>Lausanne.consumption</td><td>5                   </td></tr>\n",
       "\t<tr><td>2015                </td><td>Lausanne.consumption</td><td>2                   </td></tr>\n",
       "\t<tr><td>2016                </td><td>Lausanne.consumption</td><td>9                   </td></tr>\n",
       "\t<tr><td>2017                </td><td>Lausanne.consumption</td><td>8                   </td></tr>\n",
       "\t<tr><td>2013                </td><td>Geneva.consumption  </td><td>2                   </td></tr>\n",
       "\t<tr><td>2014                </td><td>Geneva.consumption  </td><td>2                   </td></tr>\n",
       "\t<tr><td>2015                </td><td>Geneva.consumption  </td><td>1                   </td></tr>\n",
       "\t<tr><td>2016                </td><td>Geneva.consumption  </td><td>5                   </td></tr>\n",
       "\t<tr><td>2017                </td><td>Geneva.consumption  </td><td>4                   </td></tr>\n",
       "\t<tr><td>2013                </td><td>Morges.consumption  </td><td>1                   </td></tr>\n",
       "\t<tr><td>2014                </td><td>Morges.consumption  </td><td>1                   </td></tr>\n",
       "\t<tr><td>2015                </td><td>Morges.consumption  </td><td>2                   </td></tr>\n",
       "\t<tr><td>2016                </td><td>Morges.consumption  </td><td>1                   </td></tr>\n",
       "\t<tr><td>2017                </td><td>Morges.consumption  </td><td>3                   </td></tr>\n",
       "\t<tr><td>2013                </td><td>Vevey.consumption   </td><td>2                   </td></tr>\n",
       "\t<tr><td>2014                </td><td>Vevey.consumption   </td><td>3                   </td></tr>\n",
       "\t<tr><td>2015                </td><td>Vevey.consumption   </td><td>1                   </td></tr>\n",
       "\t<tr><td>2016                </td><td>Vevey.consumption   </td><td>2                   </td></tr>\n",
       "\t<tr><td>2017                </td><td>Vevey.consumption   </td><td>4                   </td></tr>\n",
       "</tbody>\n",
       "</table>\n"
      ],
      "text/latex": [
       "\\begin{tabular}{r|lll}\n",
       " year & city & consumption\\\\\n",
       "\\hline\n",
       "\t 2013                 & Lausanne.consumption & 4                   \\\\\n",
       "\t 2014                 & Lausanne.consumption & 5                   \\\\\n",
       "\t 2015                 & Lausanne.consumption & 2                   \\\\\n",
       "\t 2016                 & Lausanne.consumption & 9                   \\\\\n",
       "\t 2017                 & Lausanne.consumption & 8                   \\\\\n",
       "\t 2013                 & Geneva.consumption   & 2                   \\\\\n",
       "\t 2014                 & Geneva.consumption   & 2                   \\\\\n",
       "\t 2015                 & Geneva.consumption   & 1                   \\\\\n",
       "\t 2016                 & Geneva.consumption   & 5                   \\\\\n",
       "\t 2017                 & Geneva.consumption   & 4                   \\\\\n",
       "\t 2013                 & Morges.consumption   & 1                   \\\\\n",
       "\t 2014                 & Morges.consumption   & 1                   \\\\\n",
       "\t 2015                 & Morges.consumption   & 2                   \\\\\n",
       "\t 2016                 & Morges.consumption   & 1                   \\\\\n",
       "\t 2017                 & Morges.consumption   & 3                   \\\\\n",
       "\t 2013                 & Vevey.consumption    & 2                   \\\\\n",
       "\t 2014                 & Vevey.consumption    & 3                   \\\\\n",
       "\t 2015                 & Vevey.consumption    & 1                   \\\\\n",
       "\t 2016                 & Vevey.consumption    & 2                   \\\\\n",
       "\t 2017                 & Vevey.consumption    & 4                   \\\\\n",
       "\\end{tabular}\n"
      ],
      "text/markdown": [
       "\n",
       "year | city | consumption | \n",
       "|---|---|---|---|---|---|---|---|---|---|---|---|---|---|---|---|---|---|---|---|\n",
       "| 2013                 | Lausanne.consumption | 4                    | \n",
       "| 2014                 | Lausanne.consumption | 5                    | \n",
       "| 2015                 | Lausanne.consumption | 2                    | \n",
       "| 2016                 | Lausanne.consumption | 9                    | \n",
       "| 2017                 | Lausanne.consumption | 8                    | \n",
       "| 2013                 | Geneva.consumption   | 2                    | \n",
       "| 2014                 | Geneva.consumption   | 2                    | \n",
       "| 2015                 | Geneva.consumption   | 1                    | \n",
       "| 2016                 | Geneva.consumption   | 5                    | \n",
       "| 2017                 | Geneva.consumption   | 4                    | \n",
       "| 2013                 | Morges.consumption   | 1                    | \n",
       "| 2014                 | Morges.consumption   | 1                    | \n",
       "| 2015                 | Morges.consumption   | 2                    | \n",
       "| 2016                 | Morges.consumption   | 1                    | \n",
       "| 2017                 | Morges.consumption   | 3                    | \n",
       "| 2013                 | Vevey.consumption    | 2                    | \n",
       "| 2014                 | Vevey.consumption    | 3                    | \n",
       "| 2015                 | Vevey.consumption    | 1                    | \n",
       "| 2016                 | Vevey.consumption    | 2                    | \n",
       "| 2017                 | Vevey.consumption    | 4                    | \n",
       "\n",
       "\n"
      ],
      "text/plain": [
       "   year city                 consumption\n",
       "1  2013 Lausanne.consumption 4          \n",
       "2  2014 Lausanne.consumption 5          \n",
       "3  2015 Lausanne.consumption 2          \n",
       "4  2016 Lausanne.consumption 9          \n",
       "5  2017 Lausanne.consumption 8          \n",
       "6  2013 Geneva.consumption   2          \n",
       "7  2014 Geneva.consumption   2          \n",
       "8  2015 Geneva.consumption   1          \n",
       "9  2016 Geneva.consumption   5          \n",
       "10 2017 Geneva.consumption   4          \n",
       "11 2013 Morges.consumption   1          \n",
       "12 2014 Morges.consumption   1          \n",
       "13 2015 Morges.consumption   2          \n",
       "14 2016 Morges.consumption   1          \n",
       "15 2017 Morges.consumption   3          \n",
       "16 2013 Vevey.consumption    2          \n",
       "17 2014 Vevey.consumption    3          \n",
       "18 2015 Vevey.consumption    1          \n",
       "19 2016 Vevey.consumption    2          \n",
       "20 2017 Vevey.consumption    4          "
      ]
     },
     "metadata": {},
     "output_type": "display_data"
    }
   ],
   "source": [
    "ice_cream %>% gather(city, consumption, -year)"
   ]
  },
  {
   "cell_type": "markdown",
   "metadata": {},
   "source": [
    "What you are doing here is the following:\n",
    "\n",
    "- Creating a 'city' column based on the values of the column headers of your initial dataframe\n",
    "- Creating a 'consumption' column based on the values of the actual consumption \n",
    "- Selecting which group of columns you want to do the `gather()` operation on (in our example, all the columns apart from the year).\n",
    "\n",
    "There you go, your dataset it already tidy :-) It would be much nicer to have the city names as actual city names, so you could split the city column and drop the second column resulting from this operation:"
   ]
  },
  {
   "cell_type": "code",
   "execution_count": 14,
   "metadata": {},
   "outputs": [
    {
     "data": {
      "text/html": [
       "<table>\n",
       "<thead><tr><th scope=col>year</th><th scope=col>city</th><th scope=col>consumption</th></tr></thead>\n",
       "<tbody>\n",
       "\t<tr><td>2013    </td><td>Lausanne</td><td>4       </td></tr>\n",
       "\t<tr><td>2014    </td><td>Lausanne</td><td>5       </td></tr>\n",
       "\t<tr><td>2015    </td><td>Lausanne</td><td>2       </td></tr>\n",
       "\t<tr><td>2016    </td><td>Lausanne</td><td>9       </td></tr>\n",
       "\t<tr><td>2017    </td><td>Lausanne</td><td>8       </td></tr>\n",
       "\t<tr><td>2013    </td><td>Geneva  </td><td>2       </td></tr>\n",
       "\t<tr><td>2014    </td><td>Geneva  </td><td>2       </td></tr>\n",
       "\t<tr><td>2015    </td><td>Geneva  </td><td>1       </td></tr>\n",
       "\t<tr><td>2016    </td><td>Geneva  </td><td>5       </td></tr>\n",
       "\t<tr><td>2017    </td><td>Geneva  </td><td>4       </td></tr>\n",
       "\t<tr><td>2013    </td><td>Morges  </td><td>1       </td></tr>\n",
       "\t<tr><td>2014    </td><td>Morges  </td><td>1       </td></tr>\n",
       "\t<tr><td>2015    </td><td>Morges  </td><td>2       </td></tr>\n",
       "\t<tr><td>2016    </td><td>Morges  </td><td>1       </td></tr>\n",
       "\t<tr><td>2017    </td><td>Morges  </td><td>3       </td></tr>\n",
       "\t<tr><td>2013    </td><td>Vevey   </td><td>2       </td></tr>\n",
       "\t<tr><td>2014    </td><td>Vevey   </td><td>3       </td></tr>\n",
       "\t<tr><td>2015    </td><td>Vevey   </td><td>1       </td></tr>\n",
       "\t<tr><td>2016    </td><td>Vevey   </td><td>2       </td></tr>\n",
       "\t<tr><td>2017    </td><td>Vevey   </td><td>4       </td></tr>\n",
       "</tbody>\n",
       "</table>\n"
      ],
      "text/latex": [
       "\\begin{tabular}{r|lll}\n",
       " year & city & consumption\\\\\n",
       "\\hline\n",
       "\t 2013     & Lausanne & 4       \\\\\n",
       "\t 2014     & Lausanne & 5       \\\\\n",
       "\t 2015     & Lausanne & 2       \\\\\n",
       "\t 2016     & Lausanne & 9       \\\\\n",
       "\t 2017     & Lausanne & 8       \\\\\n",
       "\t 2013     & Geneva   & 2       \\\\\n",
       "\t 2014     & Geneva   & 2       \\\\\n",
       "\t 2015     & Geneva   & 1       \\\\\n",
       "\t 2016     & Geneva   & 5       \\\\\n",
       "\t 2017     & Geneva   & 4       \\\\\n",
       "\t 2013     & Morges   & 1       \\\\\n",
       "\t 2014     & Morges   & 1       \\\\\n",
       "\t 2015     & Morges   & 2       \\\\\n",
       "\t 2016     & Morges   & 1       \\\\\n",
       "\t 2017     & Morges   & 3       \\\\\n",
       "\t 2013     & Vevey    & 2       \\\\\n",
       "\t 2014     & Vevey    & 3       \\\\\n",
       "\t 2015     & Vevey    & 1       \\\\\n",
       "\t 2016     & Vevey    & 2       \\\\\n",
       "\t 2017     & Vevey    & 4       \\\\\n",
       "\\end{tabular}\n"
      ],
      "text/markdown": [
       "\n",
       "year | city | consumption | \n",
       "|---|---|---|---|---|---|---|---|---|---|---|---|---|---|---|---|---|---|---|---|\n",
       "| 2013     | Lausanne | 4        | \n",
       "| 2014     | Lausanne | 5        | \n",
       "| 2015     | Lausanne | 2        | \n",
       "| 2016     | Lausanne | 9        | \n",
       "| 2017     | Lausanne | 8        | \n",
       "| 2013     | Geneva   | 2        | \n",
       "| 2014     | Geneva   | 2        | \n",
       "| 2015     | Geneva   | 1        | \n",
       "| 2016     | Geneva   | 5        | \n",
       "| 2017     | Geneva   | 4        | \n",
       "| 2013     | Morges   | 1        | \n",
       "| 2014     | Morges   | 1        | \n",
       "| 2015     | Morges   | 2        | \n",
       "| 2016     | Morges   | 1        | \n",
       "| 2017     | Morges   | 3        | \n",
       "| 2013     | Vevey    | 2        | \n",
       "| 2014     | Vevey    | 3        | \n",
       "| 2015     | Vevey    | 1        | \n",
       "| 2016     | Vevey    | 2        | \n",
       "| 2017     | Vevey    | 4        | \n",
       "\n",
       "\n"
      ],
      "text/plain": [
       "   year city     consumption\n",
       "1  2013 Lausanne 4          \n",
       "2  2014 Lausanne 5          \n",
       "3  2015 Lausanne 2          \n",
       "4  2016 Lausanne 9          \n",
       "5  2017 Lausanne 8          \n",
       "6  2013 Geneva   2          \n",
       "7  2014 Geneva   2          \n",
       "8  2015 Geneva   1          \n",
       "9  2016 Geneva   5          \n",
       "10 2017 Geneva   4          \n",
       "11 2013 Morges   1          \n",
       "12 2014 Morges   1          \n",
       "13 2015 Morges   2          \n",
       "14 2016 Morges   1          \n",
       "15 2017 Morges   3          \n",
       "16 2013 Vevey    2          \n",
       "17 2014 Vevey    3          \n",
       "18 2015 Vevey    1          \n",
       "19 2016 Vevey    2          \n",
       "20 2017 Vevey    4          "
      ]
     },
     "metadata": {},
     "output_type": "display_data"
    }
   ],
   "source": [
    "ice_cream %>% gather(city, consumption, -year) %>% separate(city, c(\"city\", \"type\")) %>% select(-type)"
   ]
  },
  {
   "cell_type": "markdown",
   "metadata": {},
   "source": [
    "To test your understanding, I propose you a challenge. Let's assume that you are given the actual and forecasted consumption of ice-cream in the following form:"
   ]
  },
  {
   "cell_type": "code",
   "execution_count": 21,
   "metadata": {},
   "outputs": [
    {
     "data": {
      "text/html": [
       "<table>\n",
       "<thead><tr><th scope=col>year</th><th scope=col>Lausanne.consumption</th><th scope=col>Lausanne.forecast</th><th scope=col>Geneva.consumption</th><th scope=col>Geneva.forecast</th><th scope=col>Morges.consumption</th><th scope=col>Morges.forecast</th><th scope=col>Vevey.consumption</th><th scope=col>Vevey.forecast</th></tr></thead>\n",
       "<tbody>\n",
       "\t<tr><td>2013</td><td>4   </td><td> 2  </td><td>2   </td><td>3   </td><td>1   </td><td>2   </td><td>2   </td><td> 1  </td></tr>\n",
       "\t<tr><td>2014</td><td>5   </td><td>10  </td><td>2   </td><td>2   </td><td>1   </td><td>3   </td><td>3   </td><td> 5  </td></tr>\n",
       "\t<tr><td>2015</td><td>2   </td><td>14  </td><td>1   </td><td>5   </td><td>2   </td><td>5   </td><td>1   </td><td> 4  </td></tr>\n",
       "\t<tr><td>2016</td><td>9   </td><td> 3  </td><td>5   </td><td>2   </td><td>1   </td><td>7   </td><td>2   </td><td> 8  </td></tr>\n",
       "\t<tr><td>2017</td><td>8   </td><td> 7  </td><td>4   </td><td>7   </td><td>3   </td><td>2   </td><td>4   </td><td>10  </td></tr>\n",
       "</tbody>\n",
       "</table>\n"
      ],
      "text/latex": [
       "\\begin{tabular}{r|lllllllll}\n",
       " year & Lausanne.consumption & Lausanne.forecast & Geneva.consumption & Geneva.forecast & Morges.consumption & Morges.forecast & Vevey.consumption & Vevey.forecast\\\\\n",
       "\\hline\n",
       "\t 2013 & 4    &  2   & 2    & 3    & 1    & 2    & 2    &  1  \\\\\n",
       "\t 2014 & 5    & 10   & 2    & 2    & 1    & 3    & 3    &  5  \\\\\n",
       "\t 2015 & 2    & 14   & 1    & 5    & 2    & 5    & 1    &  4  \\\\\n",
       "\t 2016 & 9    &  3   & 5    & 2    & 1    & 7    & 2    &  8  \\\\\n",
       "\t 2017 & 8    &  7   & 4    & 7    & 3    & 2    & 4    & 10  \\\\\n",
       "\\end{tabular}\n"
      ],
      "text/markdown": [
       "\n",
       "year | Lausanne.consumption | Lausanne.forecast | Geneva.consumption | Geneva.forecast | Morges.consumption | Morges.forecast | Vevey.consumption | Vevey.forecast | \n",
       "|---|---|---|---|---|\n",
       "| 2013 | 4    |  2   | 2    | 3    | 1    | 2    | 2    |  1   | \n",
       "| 2014 | 5    | 10   | 2    | 2    | 1    | 3    | 3    |  5   | \n",
       "| 2015 | 2    | 14   | 1    | 5    | 2    | 5    | 1    |  4   | \n",
       "| 2016 | 9    |  3   | 5    | 2    | 1    | 7    | 2    |  8   | \n",
       "| 2017 | 8    |  7   | 4    | 7    | 3    | 2    | 4    | 10   | \n",
       "\n",
       "\n"
      ],
      "text/plain": [
       "  year Lausanne.consumption Lausanne.forecast Geneva.consumption\n",
       "1 2013 4                     2                2                 \n",
       "2 2014 5                    10                2                 \n",
       "3 2015 2                    14                1                 \n",
       "4 2016 9                     3                5                 \n",
       "5 2017 8                     7                4                 \n",
       "  Geneva.forecast Morges.consumption Morges.forecast Vevey.consumption\n",
       "1 3               1                  2               2                \n",
       "2 2               1                  3               3                \n",
       "3 5               2                  5               1                \n",
       "4 2               1                  7               2                \n",
       "5 7               3                  2               4                \n",
       "  Vevey.forecast\n",
       "1  1            \n",
       "2  5            \n",
       "3  4            \n",
       "4  8            \n",
       "5 10            "
      ]
     },
     "metadata": {},
     "output_type": "display_data"
    }
   ],
   "source": [
    "ice_cream_for"
   ]
  },
  {
   "cell_type": "markdown",
   "metadata": {},
   "source": [
    "How would you do to tidy it up? (hint: you might need to use other {tidyr} and/or {dplyr} functions apart from `gather()` !) Your final and tidy dataframe should look like this:"
   ]
  },
  {
   "cell_type": "code",
   "execution_count": 22,
   "metadata": {},
   "outputs": [
    {
     "data": {
      "text/html": [
       "<table>\n",
       "<thead><tr><th scope=col>year</th><th scope=col>city</th><th scope=col>consumption</th><th scope=col>forecast</th></tr></thead>\n",
       "<tbody>\n",
       "\t<tr><td>2013    </td><td>Geneva  </td><td>2       </td><td> 3      </td></tr>\n",
       "\t<tr><td>2013    </td><td>Lausanne</td><td>4       </td><td> 2      </td></tr>\n",
       "\t<tr><td>2013    </td><td>Morges  </td><td>1       </td><td> 2      </td></tr>\n",
       "\t<tr><td>2013    </td><td>Vevey   </td><td>2       </td><td> 1      </td></tr>\n",
       "\t<tr><td>2014    </td><td>Geneva  </td><td>2       </td><td> 2      </td></tr>\n",
       "\t<tr><td>2014    </td><td>Lausanne</td><td>5       </td><td>10      </td></tr>\n",
       "\t<tr><td>2014    </td><td>Morges  </td><td>1       </td><td> 3      </td></tr>\n",
       "\t<tr><td>2014    </td><td>Vevey   </td><td>3       </td><td> 5      </td></tr>\n",
       "\t<tr><td>2015    </td><td>Geneva  </td><td>1       </td><td> 5      </td></tr>\n",
       "\t<tr><td>2015    </td><td>Lausanne</td><td>2       </td><td>14      </td></tr>\n",
       "\t<tr><td>2015    </td><td>Morges  </td><td>2       </td><td> 5      </td></tr>\n",
       "\t<tr><td>2015    </td><td>Vevey   </td><td>1       </td><td> 4      </td></tr>\n",
       "\t<tr><td>2016    </td><td>Geneva  </td><td>5       </td><td> 2      </td></tr>\n",
       "\t<tr><td>2016    </td><td>Lausanne</td><td>9       </td><td> 3      </td></tr>\n",
       "\t<tr><td>2016    </td><td>Morges  </td><td>1       </td><td> 7      </td></tr>\n",
       "\t<tr><td>2016    </td><td>Vevey   </td><td>2       </td><td> 8      </td></tr>\n",
       "\t<tr><td>2017    </td><td>Geneva  </td><td>4       </td><td> 7      </td></tr>\n",
       "\t<tr><td>2017    </td><td>Lausanne</td><td>8       </td><td> 7      </td></tr>\n",
       "\t<tr><td>2017    </td><td>Morges  </td><td>3       </td><td> 2      </td></tr>\n",
       "\t<tr><td>2017    </td><td>Vevey   </td><td>4       </td><td>10      </td></tr>\n",
       "</tbody>\n",
       "</table>\n"
      ],
      "text/latex": [
       "\\begin{tabular}{r|llll}\n",
       " year & city & consumption & forecast\\\\\n",
       "\\hline\n",
       "\t 2013     & Geneva   & 2        &  3      \\\\\n",
       "\t 2013     & Lausanne & 4        &  2      \\\\\n",
       "\t 2013     & Morges   & 1        &  2      \\\\\n",
       "\t 2013     & Vevey    & 2        &  1      \\\\\n",
       "\t 2014     & Geneva   & 2        &  2      \\\\\n",
       "\t 2014     & Lausanne & 5        & 10      \\\\\n",
       "\t 2014     & Morges   & 1        &  3      \\\\\n",
       "\t 2014     & Vevey    & 3        &  5      \\\\\n",
       "\t 2015     & Geneva   & 1        &  5      \\\\\n",
       "\t 2015     & Lausanne & 2        & 14      \\\\\n",
       "\t 2015     & Morges   & 2        &  5      \\\\\n",
       "\t 2015     & Vevey    & 1        &  4      \\\\\n",
       "\t 2016     & Geneva   & 5        &  2      \\\\\n",
       "\t 2016     & Lausanne & 9        &  3      \\\\\n",
       "\t 2016     & Morges   & 1        &  7      \\\\\n",
       "\t 2016     & Vevey    & 2        &  8      \\\\\n",
       "\t 2017     & Geneva   & 4        &  7      \\\\\n",
       "\t 2017     & Lausanne & 8        &  7      \\\\\n",
       "\t 2017     & Morges   & 3        &  2      \\\\\n",
       "\t 2017     & Vevey    & 4        & 10      \\\\\n",
       "\\end{tabular}\n"
      ],
      "text/markdown": [
       "\n",
       "year | city | consumption | forecast | \n",
       "|---|---|---|---|---|---|---|---|---|---|---|---|---|---|---|---|---|---|---|---|\n",
       "| 2013     | Geneva   | 2        |  3       | \n",
       "| 2013     | Lausanne | 4        |  2       | \n",
       "| 2013     | Morges   | 1        |  2       | \n",
       "| 2013     | Vevey    | 2        |  1       | \n",
       "| 2014     | Geneva   | 2        |  2       | \n",
       "| 2014     | Lausanne | 5        | 10       | \n",
       "| 2014     | Morges   | 1        |  3       | \n",
       "| 2014     | Vevey    | 3        |  5       | \n",
       "| 2015     | Geneva   | 1        |  5       | \n",
       "| 2015     | Lausanne | 2        | 14       | \n",
       "| 2015     | Morges   | 2        |  5       | \n",
       "| 2015     | Vevey    | 1        |  4       | \n",
       "| 2016     | Geneva   | 5        |  2       | \n",
       "| 2016     | Lausanne | 9        |  3       | \n",
       "| 2016     | Morges   | 1        |  7       | \n",
       "| 2016     | Vevey    | 2        |  8       | \n",
       "| 2017     | Geneva   | 4        |  7       | \n",
       "| 2017     | Lausanne | 8        |  7       | \n",
       "| 2017     | Morges   | 3        |  2       | \n",
       "| 2017     | Vevey    | 4        | 10       | \n",
       "\n",
       "\n"
      ],
      "text/plain": [
       "   year city     consumption forecast\n",
       "1  2013 Geneva   2            3      \n",
       "2  2013 Lausanne 4            2      \n",
       "3  2013 Morges   1            2      \n",
       "4  2013 Vevey    2            1      \n",
       "5  2014 Geneva   2            2      \n",
       "6  2014 Lausanne 5           10      \n",
       "7  2014 Morges   1            3      \n",
       "8  2014 Vevey    3            5      \n",
       "9  2015 Geneva   1            5      \n",
       "10 2015 Lausanne 2           14      \n",
       "11 2015 Morges   2            5      \n",
       "12 2015 Vevey    1            4      \n",
       "13 2016 Geneva   5            2      \n",
       "14 2016 Lausanne 9            3      \n",
       "15 2016 Morges   1            7      \n",
       "16 2016 Vevey    2            8      \n",
       "17 2017 Geneva   4            7      \n",
       "18 2017 Lausanne 8            7      \n",
       "19 2017 Morges   3            2      \n",
       "20 2017 Vevey    4           10      "
      ]
     },
     "metadata": {},
     "output_type": "display_data"
    }
   ],
   "source": [
    "ice_cream_for %>% gather(`City-Consumption`, Consumption, -year) %>% separate(`City-Consumption`, c(\"city\", \"Transaction\")) %>% spread(Transaction, Consumption)"
   ]
  }
 ],
 "metadata": {
  "kernelspec": {
   "display_name": "R",
   "language": "R",
   "name": "ir"
  },
  "language_info": {
   "codemirror_mode": "r",
   "file_extension": ".r",
   "mimetype": "text/x-r-source",
   "name": "R",
   "pygments_lexer": "r",
   "version": "3.5.1"
  }
 },
 "nbformat": 4,
 "nbformat_minor": 2
}
