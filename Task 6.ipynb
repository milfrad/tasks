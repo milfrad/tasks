{
 "cells": [
  {
   "cell_type": "markdown",
   "metadata": {},
   "source": [
    "#### Write a short answer to this question. You can assume that the learner is familiar with Python and Scikit-learn, and has high school mathematics knowledge. \"Do we always need to normalize our data? When should we use min-max, or zero mean/unit variance scaling, what's the difference?\"\n",
    "\n",
    "\n",
    "\n"
   ]
  },
  {
   "cell_type": "markdown",
   "metadata": {},
   "source": [
    "Before I jump into the answer, I recommend a very good article by Sebastian Raschka that actually comes with a detailed Python example: \n",
    "\n",
    "https://sebastianraschka.com/Articles/2014_about_feature_scaling.html\n",
    "\n",
    "About the need of scaling the data, it really depens on the algorithm used to fit your model. As a generalization, it can be said that all algorithms except for decision trees will need some type of scaling. This is especially important for algorithms that use gradient descent as the optimizer (SVM, nearest neighbours, logistic regression, and so on).\n",
    "\n",
    "About the type of normalization, it will also depend on the type of data and the algorithm. The bulk majority of them require zero mean/unit variance scaling, which is also useful for comparing features that have different units. Min-max scaling bounds the values between the data minimum and maximum, and therefore will be used in cases where the algorithm requires bounded data (such as pixels for image recognition with convolutional neural networks, which are bounded between 0 and 255). \n",
    "\n",
    "The more formal definition of both is the following:\n",
    "\n",
    "$$\\textrm{Scaling} = \\frac{x-\\mu}{\\sigma}$$\n",
    "\n",
    "$$\\textrm{Min-max} = \\frac{x - x_{\\textrm{min}}}{x_{\\textrm{max}}-x_{\\textrm{min}}}$$"
   ]
  }
 ],
 "metadata": {
  "kernelspec": {
   "display_name": "Python 3",
   "language": "python",
   "name": "python3"
  },
  "language_info": {
   "codemirror_mode": {
    "name": "ipython",
    "version": 3
   },
   "file_extension": ".py",
   "mimetype": "text/x-python",
   "name": "python",
   "nbconvert_exporter": "python",
   "pygments_lexer": "ipython3",
   "version": "3.6.4"
  }
 },
 "nbformat": 4,
 "nbformat_minor": 2
}
