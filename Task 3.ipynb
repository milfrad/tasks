{
 "cells": [
  {
   "cell_type": "code",
   "execution_count": 1,
   "metadata": {},
   "outputs": [],
   "source": [
    "import pandas as pd\n",
    "import numpy as np\n",
    "import seaborn as sns\n",
    "import matplotlib.pyplot as plt\n",
    "%matplotlib inline\n",
    "from sklearn.pipeline import Pipeline\n",
    "from sklearn.model_selection import train_test_split, ParameterGrid, GridSearchCV\n",
    "from sklearn.preprocessing import StandardScaler, MinMaxScaler\n",
    "from sklearn.neighbors import KNeighborsClassifier\n",
    "from sklearn.metrics import precision_score, recall_score, accuracy_score"
   ]
  },
  {
   "cell_type": "code",
   "execution_count": 2,
   "metadata": {},
   "outputs": [],
   "source": [
    "# You will generate a synthetic data set consisting of two classes (class 0 and class 1) with 20 features and 2000 samples each. \n",
    "# Class 0 should come from the multivariate Gaussian distribution with mean 2.0 while Class 1 should come from the multivariate Gaussian distribution with mean 1.3. \n",
    "# The two classes should share the same covariance matrix.\n",
    "\n",
    "knn_data = np.random.multivariate_normal(mean = [2.0, 1.3], cov = [[1, 0], [0, 1]], size = (2000, 20))"
   ]
  },
  {
   "cell_type": "code",
   "execution_count": 3,
   "metadata": {},
   "outputs": [],
   "source": [
    "# Label the data points with the corresponding class number \n",
    "\n",
    "class0 = pd.DataFrame(knn_data[:, :, 0])\n",
    "class0['target'] = 0\n",
    "class1 = pd.DataFrame(knn_data[:, :, 1])\n",
    "class1['target'] = 1"
   ]
  },
  {
   "cell_type": "code",
   "execution_count": 4,
   "metadata": {},
   "outputs": [],
   "source": [
    "# Regroup everything into a single dataframe\n",
    "\n",
    "input_df = pd.concat([class0, class1], ignore_index=True)"
   ]
  },
  {
   "cell_type": "code",
   "execution_count": 5,
   "metadata": {},
   "outputs": [
    {
     "name": "stdout",
     "output_type": "stream",
     "text": [
      "Train set: (2800, 20) Test set: (1200, 20)\n"
     ]
    }
   ],
   "source": [
    "# Rename the data to differentiate between features and target values\n",
    "X = input_df.drop(columns=['target']).values # features\n",
    "y = input_df.target.values # target\n",
    "\n",
    "# randomly pick 30% of each class as a test set (this is done by setting stratify=y). tr an te subscripts determine the training and test sets.\n",
    "X_tr, X_te, y_tr, y_te = train_test_split(X, y, test_size=0.3, stratify=y, random_state=0) \n",
    "\n",
    "# Double check dimensions for the data:\n",
    "print('Train set: {:}'.format(X_tr.shape), 'Test set: {:}'.format(X_te.shape))"
   ]
  },
  {
   "cell_type": "code",
   "execution_count": 6,
   "metadata": {},
   "outputs": [
    {
     "name": "stdout",
     "output_type": "stream",
     "text": [
      "The test metrics for 5 neighbours are: accuracy = 0.91 precision = 0.91 and recall = 0.91\n"
     ]
    }
   ],
   "source": [
    "# Implement and train a k-nn classifier on the remaining 70%. Test the classifier on the left out 30\\% and report the best fit accuracy, precision, and recall achieved by this classifier. \n",
    "\n",
    "knn = KNeighborsClassifier(n_neighbors=5).fit(X_tr, y_tr) # knn fit on the training set\n",
    "knn_pred = knn.predict(X_te) # knn prediction on the test set\n",
    "accuracy = knn.score(X_te, y_te) # accuracy calculation\n",
    "precision = precision_score(y_te, knn_pred) # precision calculation\n",
    "recall = recall_score(y_te, knn_pred) # recall calculation\n",
    "print('The test metrics for {}'.format(knn.n_neighbors),'neighbours are: accuracy = {:.2f}'.format(accuracy), 'precision = {:.2f}'.format(precision), 'and recall = {:.2f}'.format(recall))"
   ]
  },
  {
   "cell_type": "code",
   "execution_count": 7,
   "metadata": {},
   "outputs": [],
   "source": [
    "# Repeat the experiment for different values of k.\n",
    "# Instead of testing separately a series of values, I will define a nearest neighbors value list and iterate through it with the help of a grid. \n",
    "# I will also include a pipeline to insert a scaling step to normalize the distance between neighbours.\n",
    "\n",
    "knn_pipe = Pipeline([\n",
    "    ('scaler', StandardScaler()), # scaling step\n",
    "    ('knn', KNeighborsClassifier()) # knn step\n",
    "])\n",
    "\n",
    "k_values = list(np.arange(1, 21, 1)) + [50, 100, 150, 200, 250, 500] # step of 1 for low figures, and larger steps further on\n",
    "\n",
    "knn_grid = ParameterGrid({\n",
    "    'knn__n_neighbors' : k_values,\n",
    "})\n",
    "\n",
    "# Save accuracy, precision and recall at each step\n",
    "knn_scores = []\n",
    "\n",
    "for i in knn_grid:\n",
    "    # Set parameters\n",
    "    knn_pipe.set_params(**i)\n",
    "\n",
    "    # Fit the k-NN classifier\n",
    "    knn_pipe.fit(X_tr, y_tr)\n",
    "\n",
    "    # predict the values on the test set\n",
    "    knn_pred = knn_pipe.predict(X_te)\n",
    "    \n",
    "    # Save score metrics\n",
    "    i['accuracy'] = knn_pipe.score(X_te, y_te)\n",
    "    i['precision'] = precision_score(y_te, knn_pred)\n",
    "    i['recall'] = recall_score(y_te, knn_pred)\n",
    "\n",
    "    # Save results\n",
    "    knn_scores.append(i)\n",
    "    \n",
    "knn_search = pd.DataFrame(knn_scores)"
   ]
  },
  {
   "cell_type": "code",
   "execution_count": 8,
   "metadata": {},
   "outputs": [
    {
     "data": {
      "image/png": "[encoded data removed]",
      "text/plain": [
       "<matplotlib.figure.Figure at 0x11241d668>"
      ]
     },
     "metadata": {},
     "output_type": "display_data"
    }
   ],
   "source": [
    "# Are there particular values of k which perform better?\n",
    "\n",
    "sns.set()\n",
    "plt.plot(knn_search.knn__n_neighbors, knn_search.accuracy)\n",
    "plt.plot(knn_search.knn__n_neighbors, knn_search.precision)\n",
    "plt.plot(knn_search.knn__n_neighbors, knn_search.recall)\n",
    "plt.legend(frameon=True, facecolor='white', edgecolor='black')\n",
    "plt.show()"
   ]
  },
  {
   "cell_type": "code",
   "execution_count": 9,
   "metadata": {},
   "outputs": [
    {
     "data": {
      "text/html": [
       "<div>\n",
       "<style scoped>\n",
       "    .dataframe tbody tr th:only-of-type {\n",
       "        vertical-align: middle;\n",
       "    }\n",
       "\n",
       "    .dataframe tbody tr th {\n",
       "        vertical-align: top;\n",
       "    }\n",
       "\n",
       "    .dataframe thead th {\n",
       "        text-align: right;\n",
       "    }\n",
       "</style>\n",
       "<table border=\"1\" class=\"dataframe\">\n",
       "  <thead>\n",
       "    <tr style=\"text-align: right;\">\n",
       "      <th></th>\n",
       "      <th>accuracy</th>\n",
       "      <th>knn__n_neighbors</th>\n",
       "      <th>precision</th>\n",
       "      <th>recall</th>\n",
       "    </tr>\n",
       "  </thead>\n",
       "  <tbody>\n",
       "    <tr>\n",
       "      <th>25</th>\n",
       "      <td>0.929167</td>\n",
       "      <td>500</td>\n",
       "      <td>0.931323</td>\n",
       "      <td>0.926667</td>\n",
       "    </tr>\n",
       "    <tr>\n",
       "      <th>22</th>\n",
       "      <td>0.929167</td>\n",
       "      <td>150</td>\n",
       "      <td>0.929883</td>\n",
       "      <td>0.928333</td>\n",
       "    </tr>\n",
       "    <tr>\n",
       "      <th>18</th>\n",
       "      <td>0.929167</td>\n",
       "      <td>19</td>\n",
       "      <td>0.927032</td>\n",
       "      <td>0.931667</td>\n",
       "    </tr>\n",
       "    <tr>\n",
       "      <th>14</th>\n",
       "      <td>0.929167</td>\n",
       "      <td>15</td>\n",
       "      <td>0.927032</td>\n",
       "      <td>0.931667</td>\n",
       "    </tr>\n",
       "    <tr>\n",
       "      <th>23</th>\n",
       "      <td>0.926667</td>\n",
       "      <td>200</td>\n",
       "      <td>0.929530</td>\n",
       "      <td>0.923333</td>\n",
       "    </tr>\n",
       "  </tbody>\n",
       "</table>\n",
       "</div>"
      ],
      "text/plain": [
       "    accuracy  knn__n_neighbors  precision    recall\n",
       "25  0.929167               500   0.931323  0.926667\n",
       "22  0.929167               150   0.929883  0.928333\n",
       "18  0.929167                19   0.927032  0.931667\n",
       "14  0.929167                15   0.927032  0.931667\n",
       "23  0.926667               200   0.929530  0.923333"
      ]
     },
     "execution_count": 9,
     "metadata": {},
     "output_type": "execute_result"
    }
   ],
   "source": [
    "# Are there particular values of k which perform better?\n",
    "# It looks like k values between 150 and 250 perform better than the rest. \n",
    "\n",
    "knn_search.sort_values(by='accuracy', ascending=False).head()"
   ]
  },
  {
   "cell_type": "code",
   "execution_count": 10,
   "metadata": {},
   "outputs": [
    {
     "data": {
      "text/plain": [
       "GridSearchCV(cv=10, error_score='raise',\n",
       "       estimator=Pipeline(memory=None,\n",
       "     steps=[('scaler', StandardScaler(copy=True, with_mean=True, with_std=True)), ('knn', KNeighborsClassifier(algorithm='auto', leaf_size=30, metric='minkowski',\n",
       "           metric_params=None, n_jobs=1, n_neighbors=500, p=2,\n",
       "           weights='uniform'))]),\n",
       "       fit_params=None, iid=True, n_jobs=1,\n",
       "       param_grid={'knn__n_neighbors': [1, 2, 3, 4, 5, 6, 7, 8, 9, 10, 11, 12, 13, 14, 15, 16, 17, 18, 19, 20, 50, 100, 150, 200, 250, 500]},\n",
       "       pre_dispatch='2*n_jobs', refit='accuracy', return_train_score=False,\n",
       "       scoring=['accuracy', 'precision', 'recall'], verbose=0)"
      ]
     },
     "execution_count": 10,
     "metadata": {},
     "output_type": "execute_result"
    }
   ],
   "source": [
    "# Discuss possible approaches for finding the best value of k.\n",
    "# An alternative approach would be to do cross-validation rather than a train/test setup. \n",
    "\n",
    "scoring = ['accuracy', 'precision', 'recall']\n",
    "\n",
    "# Create cross-validation object with a stratified 10-fold cross-validation strategy, custom parameter grid for knn, and evaluation of 3 different metrics (selection of best parameters will be decided on 'accuracy' though). \n",
    "grid_knn = GridSearchCV(knn_pipe, {\n",
    "    'knn__n_neighbors' : k_values}, cv=10, return_train_score=False, scoring=scoring, refit='accuracy')\n",
    "\n",
    "# Fit the cross-validation grid\n",
    "grid_knn.fit(X, y)"
   ]
  },
  {
   "cell_type": "code",
   "execution_count": 15,
   "metadata": {},
   "outputs": [
    {
     "name": "stdout",
     "output_type": "stream",
     "text": [
      "The test metrics for 250 neighbours are: accuracy = 0.93 precision = 0.93 and recall = 0.93\n"
     ]
    }
   ],
   "source": [
    "print('The test metrics for {}'.format(list(grid_knn.best_params_.values())[0]),'neighbours are: accuracy = {:.2f}'.format(grid_knn.best_score_), 'precision = {:.2f}'.format(pd.DataFrame(grid_knn.cv_results_).loc[grid_knn.best_index_,:]['mean_test_precision']), 'and recall = {:.2f}'.format(pd.DataFrame(grid_knn.cv_results_).loc[grid_knn.best_index_,:]['mean_test_recall']))"
   ]
  },
  {
   "cell_type": "markdown",
   "metadata": {},
   "source": [
    "#### Suppose that instead of starting with two equally sized classes you would have 2000 samples in Class 0 but only 100 samples in Class 1. Discuss how you would change your approach for the classification task. \n",
    "\n",
    "This would be a classification task with an imbalanced dataset. There are several ways to tackle imbalance in classification:\n",
    "\n",
    "- Data undersampling, which consists in taking a subset of the majority class with the same amount of samples as the ones available in the minority class. The model fitting might depend greatly on the chosen subset, so a type of validation might be needed.\n",
    "- Data oversampling, which consists in repeating samples from the minority class until reaching the same number of samples from the majority class. \n",
    "- Data weighting, which consists in assigning a weight to the minority class in the form of a multiplier, and thus increasing the importance of those observations during fitting.\n",
    "- Use hyperparameter-tuned ensemble algorithms for model fitting, as these can be pretty insensitive to class imbalance (but might tend to overfit though)."
   ]
  },
  {
   "cell_type": "code",
   "execution_count": 58,
   "metadata": {},
   "outputs": [],
   "source": [
    "# The following model reproduces the same example as before but including class imbalance. As an example, the data will be undersampled.\n",
    "\n",
    "zero = (y == 0)\n",
    "X_i = np.concatenate((X[zero], X[~zero][0:100]))\n",
    "y_i = np.concatenate((y[zero], y[~zero][0:100]))\n",
    "X_i_tr = np.concatenate((X[zero][0:70], X[~zero][0:70]))\n",
    "y_i_tr = np.concatenate((y[zero][0:70], y[~zero][0:70]))\n",
    "X_i_te = np.concatenate((X[zero][70:], X[~zero][70:100]))\n",
    "y_i_te = np.concatenate((y[zero][70:], y[~zero][70:100]))"
   ]
  },
  {
   "cell_type": "code",
   "execution_count": 59,
   "metadata": {},
   "outputs": [
    {
     "data": {
      "text/plain": [
       "GridSearchCV(cv=10, error_score='raise',\n",
       "       estimator=Pipeline(memory=None,\n",
       "     steps=[('scaler', StandardScaler(copy=True, with_mean=True, with_std=True)), ('knn', KNeighborsClassifier(algorithm='auto', leaf_size=30, metric='minkowski',\n",
       "           metric_params=None, n_jobs=1, n_neighbors=500, p=2,\n",
       "           weights='uniform'))]),\n",
       "       fit_params=None, iid=True, n_jobs=1,\n",
       "       param_grid={'knn__n_neighbors': [1, 2, 3, 4, 5, 6, 7, 8, 9, 10, 11, 12, 13, 14, 15, 16, 17, 18, 19, 20, 50, 100]},\n",
       "       pre_dispatch='2*n_jobs', refit='accuracy', return_train_score=False,\n",
       "       scoring=['accuracy', 'precision', 'recall'], verbose=0)"
      ]
     },
     "execution_count": 59,
     "metadata": {},
     "output_type": "execute_result"
    }
   ],
   "source": [
    "# Create cross-validation object with a stratified 10-fold cross-validation strategy, custom parameter grid for knn, and evaluation of 3 different metrics (selection of best parameters will be decided on 'accuracy' though). \n",
    "k_values_i = list(np.arange(1, 21, 1)) + [50, 100]\n",
    "\n",
    "grid_knn_i = GridSearchCV(knn_pipe, {\n",
    "    'knn__n_neighbors' : k_values_i}, cv=10, return_train_score=False, scoring=scoring, refit='accuracy')\n",
    "\n",
    "# Fit the cross-validation grid\n",
    "grid_knn_i.fit(X_i_tr, y_i_tr)"
   ]
  },
  {
   "cell_type": "code",
   "execution_count": 60,
   "metadata": {},
   "outputs": [
    {
     "name": "stdout",
     "output_type": "stream",
     "text": [
      "The cross-validated metrics on the undersampled set for 11 neighbours are: accuracy = 0.96 precision = 0.99 and recall = 0.93\n",
      "The test metrics on the unseen test set are accuracy = 0.93 precision = 0.77 and recall = 0.14\n"
     ]
    }
   ],
   "source": [
    "print('The cross-validated metrics on the undersampled set for {}'.format(list(grid_knn_i.best_params_.values())[0]),'neighbours are: accuracy = {:.2f}'.format(grid_knn_i.best_score_), 'precision = {:.2f}'.format(pd.DataFrame(grid_knn_i.cv_results_).loc[grid_knn_i.best_index_,:]['mean_test_precision']), 'and recall = {:.2f}'.format(pd.DataFrame(grid_knn_i.cv_results_).loc[grid_knn_i.best_index_,:]['mean_test_recall']))\n",
    "print('The test metrics on the unseen test set are accuracy = {:.2f}'.format(grid_knn_i.score(X_i_te, y_i_te)), 'precision = {:.2f}'.format(precision_score(grid_knn_i.predict(X_i_te), y_i_te)), 'and recall = {:.2f}'.format(recall_score(grid_knn_i.predict(X_i_te), y_i_te)))"
   ]
  },
  {
   "cell_type": "code",
   "execution_count": null,
   "metadata": {},
   "outputs": [],
   "source": []
  }
 ],
 "metadata": {
  "kernelspec": {
   "display_name": "Python 3",
   "language": "python",
   "name": "python3"
  },
  "language_info": {
   "codemirror_mode": {
    "name": "ipython",
    "version": 3
   },
   "file_extension": ".py",
   "mimetype": "text/x-python",
   "name": "python",
   "nbconvert_exporter": "python",
   "pygments_lexer": "ipython3",
   "version": "3.6.4"
  }
 },
 "nbformat": 4,
 "nbformat_minor": 2
}
